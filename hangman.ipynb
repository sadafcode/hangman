{
  "nbformat": 4,
  "nbformat_minor": 0,
  "metadata": {
    "colab": {
      "provenance": [],
      "authorship_tag": "ABX9TyMBuM2e0vDoFr9e+tyP2pPW",
      "include_colab_link": true
    },
    "kernelspec": {
      "name": "python3",
      "display_name": "Python 3"
    },
    "language_info": {
      "name": "python"
    }
  },
  "cells": [
    {
      "cell_type": "markdown",
      "metadata": {
        "id": "view-in-github",
        "colab_type": "text"
      },
      "source": [
        "<a href=\"https://colab.research.google.com/github/sadafcode/hangman/blob/main/hangman.ipynb\" target=\"_parent\"><img src=\"https://colab.research.google.com/assets/colab-badge.svg\" alt=\"Open In Colab\"/></a>"
      ]
    },
    {
      "cell_type": "code",
      "execution_count": 23,
      "metadata": {
        "colab": {
          "base_uri": "https://localhost:8080/"
        },
        "id": "bNg1smioucHv",
        "outputId": "4e905421-4c7d-4970-af0a-dc8178a26029"
      },
      "outputs": [
        {
          "output_type": "stream",
          "name": "stdout",
          "text": [
            "welcome to hangman!\n",
            "The word is: ----\n",
            "guess a letter: a\n",
            "oops the letter a is not in word.you have 5 tries left\n",
            "guess a letter: k\n",
            "you guess it correctly the {guess} is in the word.\n",
            "current word: k---\n",
            "guess a letter: w\n",
            "you guess it correctly the {guess} is in the word.\n",
            "current word: k-w-\n",
            "guess a letter: i\n",
            "you guess it correctly the {guess} is in the word.\n",
            "current word: kiwi\n",
            "congratulations! you guessed the word kiwi! \n"
          ]
        }
      ],
      "source": [
        "import random\n",
        "\n",
        "def hangman():\n",
        "    words = [\"apple\",\"mango\",\"banana\",\"kiwi\",\"guava\",\"pomegranate\"]\n",
        "    word = random.choice(words)\n",
        "    guessed = \"-\" *len(word)\n",
        "    tries = 6\n",
        "    print(\"welcome to hangman!\")\n",
        "    print(f\"The word is: {guessed}\")\n",
        "\n",
        "    while tries > 0:\n",
        "         guess = input(\"guess a letter: \")\n",
        "         if len(guess) != 1:\n",
        "          print(\"guess one letter at a time.\")\n",
        "          continue\n",
        "\n",
        "         if guess in word:\n",
        "          print(\"you guess it correctly the {guess} is in the word.\")\n",
        "          guessed = \"\".join([guess if word[i] == guess else guessed[i] for i in range (len(word))])\n",
        "          print(f\"current word: {guessed}\")\n",
        "\n",
        "         else:\n",
        "            tries -= 1\n",
        "            print(f\"oops the letter {guess} is not in word.you have {tries} tries left\")\n",
        "         if \"-\" not in guessed:\n",
        "          print(f\"congratulations! you guessed the word {word}! \")\n",
        "          break\n",
        "    if tries == 0:\n",
        "      print(f\"you lost the word is {word}.better luck next time!\")\n",
        "\n",
        "\n",
        "\n",
        "hangman()"
      ]
    }
  ]
}